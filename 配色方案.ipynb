{
 "cells": [
  {
   "cell_type": "code",
   "execution_count": 1,
   "id": "b1ea9f60",
   "metadata": {},
   "outputs": [],
   "source": [
    "%matplotlib inline\n",
    "\n",
    "import numpy as np\n",
    "import matplotlib.pyplot as plt\n",
    "import matplotlib as mpl\n"
   ]
  },
  {
   "cell_type": "code",
   "execution_count": 2,
   "id": "ecf32c4e",
   "metadata": {},
   "outputs": [],
   "source": [
    "mpl.rcParams['mathtext.fontset']='custom'\n",
    "mpl.rcParams['mathtext.rm']='Times New Roman'\n",
    "mpl.rcParams['mathtext.it']='Times New Roman:italic'\n",
    "mpl.rcParams['mathtext.bf']='Times New Roman:bold'"
   ]
  },
  {
   "cell_type": "code",
   "execution_count": 3,
   "id": "91b4da4e",
   "metadata": {},
   "outputs": [
    {
     "data": {
      "text/plain": [
       "<Figure size 504x360 with 0 Axes>"
      ]
     },
     "metadata": {},
     "output_type": "display_data"
    }
   ],
   "source": [
    "mpl.rc('font',family='serif',size='16')\n",
    "fig=plt.figure(1,figsize=(7,5))"
   ]
  },
  {
   "cell_type": "code",
   "execution_count": 4,
   "id": "3eb23c61",
   "metadata": {},
   "outputs": [],
   "source": [
    "tableau20 = [(31,119,180),(174,199,232),(255,127,14),(255,187,120)\n",
    "          ,(44,160,44),(152,223,138),(214,39,40),(255,152,150)\n",
    "         ,(148,103,189),(197,176,213),(140,86,75),(196,156,148),\n",
    "          (227,119,194),(247,182,210),(127,127,127),(199,199,199)\n",
    "         ,(188,189,34),(219,219,141),(23,190,207),(158,218,229)]\n",
    "\n",
    "\n",
    "for i in range(len(tableau20)):\n",
    "    r,g,b=tableau20[i]\n",
    "    tableau20[i]=(r/255.,g/255.,b/255.)"
   ]
  },
  {
   "cell_type": "markdown",
   "id": "0e3cf6bd",
   "metadata": {},
   "source": [
    "![tab](color.png)"
   ]
  },
  {
   "cell_type": "code",
   "execution_count": 5,
   "id": "7a798c75",
   "metadata": {},
   "outputs": [
    {
     "data": {
      "text/plain": [
       "[<matplotlib.lines.Line2D at 0x247ebd80190>]"
      ]
     },
     "execution_count": 5,
     "metadata": {},
     "output_type": "execute_result"
    },
    {
     "data": {
      "image/png": "[encoded data removed]",
      "text/plain": [
       "<Figure size 432x288 with 1 Axes>"
      ]
     },
     "metadata": {
      "needs_background": "light"
     },
     "output_type": "display_data"
    }
   ],
   "source": [
    "x=np.linspace(1,2,101)\n",
    "y=np.sin(x)\n",
    "y2=np.cos(x)\n",
    "plt.plot(x,y,c=tableau20[1])\n",
    "plt.plot(x,y2,c=tableau20[7])"
   ]
  },
  {
   "cell_type": "code",
   "execution_count": null,
   "id": "ea974859",
   "metadata": {},
   "outputs": [],
   "source": []
  }
 ],
 "metadata": {
  "kernelspec": {
   "display_name": "Python 3",
   "language": "python",
   "name": "python3"
  },
  "language_info": {
   "codemirror_mode": {
    "name": "ipython",
    "version": 3
   },
   "file_extension": ".py",
   "mimetype": "text/x-python",
   "name": "python",
   "nbconvert_exporter": "python",
   "pygments_lexer": "ipython3",
   "version": "3.8.8"
  }
 },
 "nbformat": 4,
 "nbformat_minor": 5
}
